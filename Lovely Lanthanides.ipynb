{
 "cells": [
  {
   "cell_type": "markdown",
   "metadata": {},
   "source": [
    "<b> Lovely Lanthanides </b>\n",
    "<p>\n",
    "<i> Some fun, mash-together coding to help practice Python concepts and create a nice reference plot for the lanthanide states relevant for upconversion, downconversion, and quantum cutting. </i>\n",
    "<p>\n",
    "Note: To run this, you will need to install the following packages: "
   ]
  },
  {
   "cell_type": "code",
   "execution_count": 11,
   "metadata": {},
   "outputs": [],
   "source": [
    "import lxml.html as lh\n",
    "import pandas as pd\n",
    "import html2text\n",
    "import re\n",
    "import plotly.graph_objects as go\n",
    "import ipywidgets as widgets\n",
    "import matplotlib\n",
    "import matplotlib.pyplot as plt\n",
    "import matplotlib.animation as animation\n",
    "import numpy as np\n",
    "from wavelength_color import wavelength_to_rgb"
   ]
  },
  {
   "cell_type": "markdown",
   "metadata": {},
   "source": [
    "Let's grab the text file we'll be using to grab all of the cool information about our 10 lanthanides. Please note that this file was extracted from source code of the following publication:\n",
    "\n",
    "This publication created a lovely and incredibly useful table with all of this information. We're going to parse that data out of the webpages html code, store it, and then plot it in an updateable figure."
   ]
  },
  {
   "cell_type": "code",
   "execution_count": 12,
   "metadata": {},
   "outputs": [],
   "source": [
    "file = open(\"PrincipleLanthanideTransitions.txt\",\"r\", encoding=\"utf-8\")\n",
    "doc = file.readlines()"
   ]
  },
  {
   "cell_type": "markdown",
   "metadata": {},
   "source": [
    "First we'll extract the header information, which can be found at the beginning of the file. "
   ]
  },
  {
   "cell_type": "code",
   "execution_count": 13,
   "metadata": {},
   "outputs": [
    {
     "name": "stdout",
     "output_type": "stream",
     "text": [
      "['Ln', 'Ground state', 'Excited state', 'Final state', 'Emission wavelength (nm)', 'Energy (cm−1)', 'Intensity', 'Remarks']\n"
     ]
    }
   ],
   "source": [
    "headers = []\n",
    "h = html2text.HTML2Text()\n",
    "# Ignore converting links from HTML\n",
    "h.ignore_links = True\n",
    "for line in doc[11:19]:\n",
    "    actual_text = h.handle(line)\n",
    "    actual_text = actual_text.strip()\n",
    "    actual_text = actual_text.strip(\"|\")\n",
    "    actual_text = actual_text.strip()\n",
    "    headers.append(actual_text)\n",
    "print(headers)"
   ]
  },
  {
   "cell_type": "markdown",
   "metadata": {},
   "source": [
    "Next, we'll look at the rest of this text file and remove all of the html muck we don't care about. <i>If you uncomment the last two lines of the next cell, you can see what our text file looks like now (in list form) and how many total entries we have (298).</i>"
   ]
  },
  {
   "cell_type": "code",
   "execution_count": 14,
   "metadata": {},
   "outputs": [],
   "source": [
    "info = []\n",
    "for line in doc[23:]:\n",
    "    actual_text = h.handle(line)\n",
    "    actual_text = actual_text.strip()\n",
    "    actual_text = actual_text.strip(\"|\")\n",
    "    actual_text = actual_text.replace(\"![\\\\[thin space\\n\\\\(1/6-em\\\\)\\\\]](https://www.rsc.org/images/entities/char_2009.gif)\",\"\")\n",
    "    actual_text = actual_text.replace(\"![\\\\[thin\\nspace \\\\(1/6-em\\\\)\\\\]](https://www.rsc.org/images/entities/char_2009.gif)\",\"\")\n",
    "    actual_text = actual_text.strip()\n",
    "    if actual_text != \"\":\n",
    "        info.append(actual_text)\n",
    "#print(info)\n",
    "#print(len(info))"
   ]
  },
  {
   "cell_type": "markdown",
   "metadata": {},
   "source": [
    "Now let's do some parsing. This is just picking out patterns in our list of strings (e.g. is there an arrow in the string? does this look like an element symbol?). Following these patterns, we'll store information in a nested dictionary (dictionaries within a dictionary). \n",
    "<p>\n",
    "The upper level dicitionary will have the lanthanide element symbols (e.g. 'Pr', 'Yb', etc.) as keys and a dictionary as a value. This lower level dictionary will have keys following the headings of our original table (e.g. 'Transition', 'Remarks', etc.), and values matching those keys for each transition."
   ]
  },
  {
   "cell_type": "code",
   "execution_count": 15,
   "metadata": {},
   "outputs": [],
   "source": [
    "i = 0\n",
    "\n",
    "lanthanides = {}\n",
    "while i < len(info):\n",
    "    #Check for element symbol\n",
    "    if info[i][0].isupper() and info[i][1].islower() and len(info[i]) == 2:\n",
    "        #Grab that element!\n",
    "        current_lanthanide = info[i]\n",
    "        lanthanides[current_lanthanide] = {'Transition': [], headers[4]: [], headers[5]: [], headers[6]: [], headers[7]: []}\n",
    "        i += 1\n",
    "        \n",
    "        #Grab that ground state!\n",
    "        ground_state = info[i]\n",
    "        i += 1\n",
    "        \n",
    "    if \"→\" in info[i]:\n",
    "        #Grab that excited state!\n",
    "        excited_state = info[i]\n",
    "        i += 1\n",
    "    \n",
    "        #Grab that final state!\n",
    "        final_state = info[i]\n",
    "        \n",
    "        transition = excited_state + ' ' + final_state\n",
    "        lanthanides[current_lanthanide]['Transition'].append(transition)\n",
    "        lanthanides[current_lanthanide]['Emission wavelength (nm)'].append(info[i+1])\n",
    "        lanthanides[current_lanthanide]['Energy (cm−1)'].append(info[i+2])\n",
    "        lanthanides[current_lanthanide]['Intensity'].append(info[i+3])\n",
    "        lanthanides[current_lanthanide]['Remarks'].append(info[i+4])\n",
    "        i += 5\n",
    "            \n",
    "    else:\n",
    "        #Grab that final state!\n",
    "        final_state = info[i]\n",
    "        \n",
    "        transition = excited_state + ' ' + final_state\n",
    "        lanthanides[current_lanthanide]['Transition'].append(transition)\n",
    "        lanthanides[current_lanthanide]['Emission wavelength (nm)'].append(info[i+1])\n",
    "        lanthanides[current_lanthanide]['Energy (cm−1)'].append(info[i+2])\n",
    "        lanthanides[current_lanthanide]['Intensity'].append(info[i+3])\n",
    "        lanthanides[current_lanthanide]['Remarks'].append(info[i+4])\n",
    "        \n",
    "        i += 5"
   ]
  },
  {
   "cell_type": "markdown",
   "metadata": {},
   "source": [
    "Really quick we're going to copy these dictionaries into dataframes, which can be useful for looking at this data in a tabulated way (and also just fun for us to explore dataframes and dictionaries). Here we're displaying the transitions, their respective emission wavelengths, and their remarks, but note that you can choose which columns of the dataframe you want to show."
   ]
  },
  {
   "cell_type": "code",
   "execution_count": 16,
   "metadata": {
    "scrolled": true
   },
   "outputs": [
    {
     "name": "stdout",
     "output_type": "stream",
     "text": [
      "Pr\n",
      "  Transition Emission wavelength (nm)    Remarks\n",
      "0  3P2 → 3H4                      440         QC\n",
      "1  3P1 → 3H4                      470         QC\n",
      "2  3P1 → 1G4                      872         QC\n",
      "3  3P0 → 3H4                      480  UC and QC\n",
      "4  3P0 → 3H5                      545  UC and QC\n",
      "5  3P0 → 3H6                      606  UC and QC\n",
      "6  3P0 → 3F2                      640  UC and QC\n",
      "7  1D2 → 3F4                     1037         QC\n",
      "Nd\n",
      "       Transition Emission wavelength (nm)    Remarks\n",
      "0   4D3/2 → 4I9/2                      355  UC and QC\n",
      "1   2P3/2 → 4I9/2                      380  UC and QC\n",
      "2  2P3/2 → 4I11/2                      410  UC and QC\n",
      "3  2P3/2 → 4I13/2                      452  UC and QC\n",
      "4   4G7/2 → 4I9/2                      545  UC and QC\n",
      "5  4G7/2 → 4I11/2                      587  UC and QC\n",
      "6  4G7/2 → 4I13/2                      655  UC and QC\n",
      "7   4F3/2 → 4I9/2                      886  QC and DS\n",
      "8  4F3/2 → 4I11/2                     1064  QC and DS\n",
      "9  4F3/2 → 4I13/2                     1340  QC and DS\n",
      "Sm\n",
      "      Transition Emission wavelength (nm) Remarks\n",
      "0  4G5/2 → 6H5/2                      564      DS\n",
      "1  4G5/2 → 6H7/2                      601      DS\n",
      "2  4G5/2 → 6H9/2                      644      DS\n",
      "Eu\n",
      "          Transition Emission wavelength (nm)    Remarks\n",
      "0  5D0 → 7F0,1,2,3,4                  570–720  UC and DS\n",
      "Tb\n",
      "        Transition Emission wavelength (nm)        Remarks\n",
      "0  5D4 → 7F6,5,4,3                  480–650  UC, QC and DS\n",
      "Dy\n",
      "       Transition Emission wavelength (nm)    Remarks\n",
      "0  4F9/2 → 6H15/2                      486  QC and DS\n",
      "1  4F9/2 → 6H13/2                      575  QC and DS\n",
      "2  4F9/2 → 6H11/2                      664  QC and DS\n",
      "Ho\n",
      "       Transition Emission wavelength (nm)    Remarks\n",
      "0  5S2, 5F4 → 5I8                      540  UC and QC\n",
      "1  5S2, 5F4 → 5I7                      749  UC and QC\n",
      "2  5S2, 5F4 → 5I6                     1012         QC\n",
      "3       5F5 → 5I8                      644  UC and QC\n",
      "4       5F5 → 5I7                      966         QC\n",
      "5       5I6 → 5I8                     1180         QC\n",
      "Er\n",
      "        Transition Emission wavelength (nm)    Remarks\n",
      "0  4G11/2 → 4I15/2                      380  UC and QC\n",
      "1   2P3/2 → 4I13/2                      408         UC\n",
      "2   2P3/2 → 4I11/2                      480         UC\n",
      "3  2H11/2 → 4I15/2                      525  UC and QC\n",
      "4   4S3/2 → 4I15/2                      545  UC and QC\n",
      "5   4S3/2 → 4I13/2                      850  UC and QC\n",
      "6   4F9/2 → 4I15/2                      665  UC and QC\n",
      "7   4I9/2 → 4I15/2                      800  UC and QC\n",
      "8  4I11/2 → 4I15/2                      980  UC and QC\n",
      "9  4I13/2 → 4I15/2                     1540         QC\n",
      "Tm\n",
      "  Transition Emission wavelength (nm)    Remarks\n",
      "0  1D2 → 3H6                      360  UC and QC\n",
      "1  1D2 → 3F4                      450  UC and QC\n",
      "2  1G4 → 3H6                      475  UC and QC\n",
      "3  1G4 → 3F4                      650  UC and QC\n",
      "4  1G4 → 3H5                      786  UC and QC\n",
      "5  3H4 → 3H6                      800  UC and QC\n",
      "6  3F4 → 3H6                     1800         QC\n",
      "Yb\n",
      "      Transition Emission wavelength (nm)        Remarks\n",
      "0  2F5/2 → 2F7/2                      980  UC, QC and DS\n"
     ]
    }
   ],
   "source": [
    "df = {}\n",
    "for key in lanthanides:\n",
    "    print(key)\n",
    "    df[key] = pd.DataFrame(lanthanides[key])\n",
    "    print(df[key][['Transition', 'Emission wavelength (nm)','Remarks']])"
   ]
  },
  {
   "cell_type": "markdown",
   "metadata": {},
   "source": [
    "In the next cell, we'll build a widget. For now we want something that gives us some interactability for selecting specific transitions we want to look at and allows us to select multiple transitions at once. Note that widgets with the same description value are linked, so changes to one widget will automatically affect the same widget somewhere else. This is useful for us, as we can create the widget here but use it later in our code.\n",
    "<p>\n",
    "    <i>You can look at what this widget displays as by uncommenting the last line.</i>"
   ]
  },
  {
   "cell_type": "code",
   "execution_count": 24,
   "metadata": {
    "scrolled": true
   },
   "outputs": [],
   "source": [
    "#Let's make some widgets!\n",
    "widget_list = []\n",
    "for key in lanthanides:\n",
    "    #This will be a multi-select list of the transitions for that lanthanide.\n",
    "    widget_info = widgets.SelectMultiple(\n",
    "        options=[lanthanides[key]['Transition'][i] for i in range(len(lanthanides[key]['Transition']))],\n",
    "        value=[],\n",
    "        description='Transitions',\n",
    "        disabled=False\n",
    "    )\n",
    "    #This will be the Select All Checkbox if we care about all of the transitions.\n",
    "    lanthanide_select_all = widgets.Checkbox(\n",
    "    value=False,\n",
    "    description= key + ' Select All',\n",
    "    disabled=False\n",
    "    )\n",
    "    container = widgets.HBox(children=[lanthanide_select_all,widget_info])\n",
    "    widget_list.append(container)\n",
    "\n",
    "tab_contents = [key for key in lanthanides]\n",
    "children = widget_list\n",
    "tab = widgets.Tab()\n",
    "tab.children = children\n",
    "for i in range(len(children)):\n",
    "    tab.set_title(i, tab_contents[i])\n",
    "#tab"
   ]
  },
  {
   "cell_type": "markdown",
   "metadata": {},
   "source": [
    "Next we need to write a function that we can call to grab and update the transitions that have been selected in our widget. The function will take no inputs but will provide two outputs: a list of wavelengths and a list of \"intensity\" values. Here, we're calling an intensity of 'Weak' as equal to 1, 'Medium' as 3, and 'Strong' as 5. This is just for plotting purposes, so we can show relatively the intensity of the emission."
   ]
  },
  {
   "cell_type": "code",
   "execution_count": 18,
   "metadata": {},
   "outputs": [],
   "source": [
    "def update():\n",
    "#If any 'select all' boxes are checked, update the tab view to reflect that then\n",
    "#Grab list of selected states so that these can eventually be plotted\n",
    "    box_ticks = [tab.children[k].children[0].value for k in range(len(tab_contents))]\n",
    "    if any(box_ticks):\n",
    "        for j in range(len(box_ticks)):\n",
    "            if box_ticks[j]:\n",
    "                tab.children[j].children[1].value = tab.children[j].children[1].options\n",
    "    #Let's clear what we plotted previously so that we can update via appending\n",
    "    lanthanide_x = []\n",
    "    lanthanide_y = []\n",
    "    #Look through all of those lanthanides!\n",
    "    for z in range(len(tab_contents)):\n",
    "        #Look through all of those transitions!\n",
    "        for transition in children[z].children[1].value:\n",
    "            element_data = df[tab_contents[z]]\n",
    "            #Match the selected transitions with the tabulated data, so that we can grab that data (wavelength and intensity)\n",
    "            if transition in element_data['Transition'].values:\n",
    "                transition_index = element_data[element_data['Transition'] == transition].index.values\n",
    "                intensity = element_data['Intensity'][transition_index].values\n",
    "                #Grab intensity information\n",
    "                if intensity == 'Strong':\n",
    "                    intensity_value = 5\n",
    "                elif intensity == 'Weak':\n",
    "                    intensity_value = 1\n",
    "                else:\n",
    "                    intensity_value = 3\n",
    "                #Grab wavelength information\n",
    "                wavelength = element_data['Emission wavelength (nm)'][transition_index].values[0]\n",
    "                if '-' in wavelength:\n",
    "                    wavelength_start = int(wavelength.split('-')[0])\n",
    "                    lanthanide_x.append(wavelength_start)\n",
    "                    lanthanide_y.append(intensity_value)\n",
    "                    wavelength_end = int(wavelength.split('-')[1])\n",
    "                    lanthanide_x.append(wavelength_end)\n",
    "                    lanthanide_y.append(intensity_value)\n",
    "                elif '–' in wavelength:\n",
    "                    wavelength_start = int(wavelength.split('–')[0])\n",
    "                    lanthanide_x.append(wavelength_start)\n",
    "                    lanthanide_y.append(intensity_value)\n",
    "                    wavelength_end = int(wavelength.split('–')[1])\n",
    "                    lanthanide_x.append(wavelength_end)\n",
    "                    lanthanide_y.append(intensity_value)\n",
    "                else:\n",
    "                    wavelength = int(wavelength)\n",
    "                    lanthanide_x.append(wavelength)\n",
    "                    lanthanide_y.append(intensity_value)\n",
    "    return lanthanide_x, lanthanide_y"
   ]
  },
  {
   "cell_type": "markdown",
   "metadata": {},
   "source": [
    "Finally, let's create a plot and pull up our widget. Every time this cell is run, the plot will update based on the selected transitions."
   ]
  },
  {
   "cell_type": "code",
   "execution_count": 26,
   "metadata": {},
   "outputs": [
    {
     "data": {
      "image/png": "[encoded data removed]",
      "text/plain": [
       "<Figure size 1440x432 with 1 Axes>"
      ]
     },
     "metadata": {
      "needs_background": "light"
     },
     "output_type": "display_data"
    },
    {
     "data": {
      "application/vnd.jupyter.widget-view+json": {
       "model_id": "c2eb8fdb5b014022b57f411a0d9c86be",
       "version_major": 2,
       "version_minor": 0
      },
      "text/plain": [
       "Tab(children=(HBox(children=(Checkbox(value=False, description='Pr Select All'), SelectMultiple(description='T…"
      ]
     },
     "metadata": {},
     "output_type": "display_data"
    }
   ],
   "source": [
    "fig = plt.figure(figsize=(20, 6))\n",
    "#creating a subplot \n",
    "ax1 = fig.add_subplot(1,1,1)\n",
    "ax1.axis([300, 1900, 0, 6])\n",
    "plt.yticks([])\n",
    "ax1.set(xlabel='Wavelength (nm)', ylabel='Relative Intensity (a.u.)',\n",
    "       title='Lanthanide States')\n",
    "plt.rcParams.update({'font.size': 25})\n",
    "x_values, y_values = update()\n",
    "for k in range(len(x_values)):\n",
    "    ax1.vlines(x = x_values[k], ymin = 0, ymax = y_values[k], colors = wavelength_to_rgb(x_values[k]), linewidths = 3)\n",
    "plt.show()\n",
    "tab"
   ]
  },
  {
   "cell_type": "code",
   "execution_count": 20,
   "metadata": {},
   "outputs": [
    {
     "data": {
      "text/plain": [
       "(0, 0, 0)"
      ]
     },
     "execution_count": 20,
     "metadata": {},
     "output_type": "execute_result"
    }
   ],
   "source": [
    "wavelength_to_rgb(646)"
   ]
  },
  {
   "cell_type": "code",
   "execution_count": null,
   "metadata": {},
   "outputs": [],
   "source": []
  }
 ],
 "metadata": {
  "kernelspec": {
   "display_name": "Python 3",
   "language": "python",
   "name": "python3"
  },
  "language_info": {
   "codemirror_mode": {
    "name": "ipython",
    "version": 3
   },
   "file_extension": ".py",
   "mimetype": "text/x-python",
   "name": "python",
   "nbconvert_exporter": "python",
   "pygments_lexer": "ipython3",
   "version": "3.6.8"
  }
 },
 "nbformat": 4,
 "nbformat_minor": 2
}
