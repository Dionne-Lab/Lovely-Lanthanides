{
 "cells": [
  {
   "cell_type": "code",
   "execution_count": 3,
   "metadata": {},
   "outputs": [],
   "source": [
    "import lxml.html as lh\n",
    "import pandas as pd\n",
    "import html2text"
   ]
  },
  {
   "cell_type": "code",
   "execution_count": 4,
   "metadata": {},
   "outputs": [
    {
     "ename": "FileNotFoundError",
     "evalue": "[Errno 2] No such file or directory: 'PrincipleLanthanideTransitions.txt'",
     "output_type": "error",
     "traceback": [
      "\u001b[1;31m---------------------------------------------------------------------------\u001b[0m",
      "\u001b[1;31mFileNotFoundError\u001b[0m                         Traceback (most recent call last)",
      "\u001b[1;32m<ipython-input-4-60faa38c2b5a>\u001b[0m in \u001b[0;36m<module>\u001b[1;34m\u001b[0m\n\u001b[1;32m----> 1\u001b[1;33m \u001b[0mfile\u001b[0m \u001b[1;33m=\u001b[0m \u001b[0mopen\u001b[0m\u001b[1;33m(\u001b[0m\u001b[1;34m\"PrincipleLanthanideTransitions.txt\"\u001b[0m\u001b[1;33m,\u001b[0m\u001b[1;34m\"r\"\u001b[0m\u001b[1;33m,\u001b[0m \u001b[0mencoding\u001b[0m\u001b[1;33m=\u001b[0m\u001b[1;34m\"utf-8\"\u001b[0m\u001b[1;33m)\u001b[0m\u001b[1;33m\u001b[0m\u001b[1;33m\u001b[0m\u001b[0m\n\u001b[0m\u001b[0;32m      2\u001b[0m \u001b[0mdoc\u001b[0m \u001b[1;33m=\u001b[0m \u001b[0mfile\u001b[0m\u001b[1;33m.\u001b[0m\u001b[0mreadlines\u001b[0m\u001b[1;33m(\u001b[0m\u001b[1;33m)\u001b[0m\u001b[1;33m\u001b[0m\u001b[1;33m\u001b[0m\u001b[0m\n",
      "\u001b[1;31mFileNotFoundError\u001b[0m: [Errno 2] No such file or directory: 'PrincipleLanthanideTransitions.txt'"
     ]
    }
   ],
   "source": [
    "file = open(\"PrincipleLanthanideTransitions.txt\",\"r\", encoding=\"utf-8\")\n",
    "doc = file.readlines()"
   ]
  },
  {
   "cell_type": "code",
   "execution_count": null,
   "metadata": {},
   "outputs": [],
   "source": [
    "headers = []\n",
    "h = html2text.HTML2Text()\n",
    "# Ignore converting links from HTML\n",
    "h.ignore_links = True\n",
    "for line in doc[11:19]:\n",
    "    actual_text = h.handle(line)\n",
    "    actual_text = actual_text.strip()\n",
    "    actual_text = actual_text.strip(\"|\")\n",
    "    actual_text = actual_text.strip()\n",
    "    headers.append(actual_text)\n",
    "print(headers)"
   ]
  },
  {
   "cell_type": "code",
   "execution_count": null,
   "metadata": {},
   "outputs": [],
   "source": [
    "info = []\n",
    "for line in doc[23:]:\n",
    "    actual_text = h.handle(line)\n",
    "    actual_text = actual_text.strip()\n",
    "    actual_text = actual_text.strip(\"|\")\n",
    "    actual_text = actual_text.replace(\"![\\\\[thin space\\n\\\\(1/6-em\\\\)\\\\]](https://www.rsc.org/images/entities/char_2009.gif)\",\"\")\n",
    "    actual_text = actual_text.replace(\"![\\\\[thin\\nspace \\\\(1/6-em\\\\)\\\\]](https://www.rsc.org/images/entities/char_2009.gif)\",\"\")\n",
    "    actual_text = actual_text.strip()\n",
    "    if actual_text != \"\":\n",
    "        info.append(actual_text)\n",
    "print(info)\n",
    "print(len(info))"
   ]
  },
  {
   "cell_type": "code",
   "execution_count": null,
   "metadata": {},
   "outputs": [],
   "source": [
    "8*10+6*18+5*22"
   ]
  },
  {
   "cell_type": "code",
   "execution_count": null,
   "metadata": {},
   "outputs": [],
   "source": [
    "#Create dictionary (but maybe I should consider using a pandas dataframe?)\n",
    "lanthanides = {}\n",
    "ground_state = False\n",
    "for item in info:\n",
    "    if ground_state:\n",
    "        lanthanides[current_lanthanide][\"Ground State\"] = item\n",
    "        ground_state = False\n",
    "    #Find those element symbols!\n",
    "    if item[0].isupper() and item[1].islower() and len(item) == 2:\n",
    "        current_lanthanide = item\n",
    "        lanthanides[item] = {\"Ground State\": '', \"Transitions\": {}}\n",
    "        lanthanides[item][\"Transitions\"] = {headers[2]: '', headers[3]: '', headers[4]: '', headers[5]: '', headers[6]: '', headers[7]: ''}\n",
    "        ground_state = True\n"
   ]
  },
  {
   "cell_type": "code",
   "execution_count": null,
   "metadata": {},
   "outputs": [],
   "source": [
    "for key in lanthanides:\n",
    "    print(key)\n",
    "    print(lanthanides[key])"
   ]
  },
  {
   "cell_type": "code",
   "execution_count": null,
   "metadata": {},
   "outputs": [],
   "source": [
    "lanthanides[\"Pr\"][0]"
   ]
  },
  {
   "cell_type": "code",
   "execution_count": null,
   "metadata": {},
   "outputs": [],
   "source": []
  }
 ],
 "metadata": {
  "kernelspec": {
   "display_name": "Python 3",
   "language": "python",
   "name": "python3"
  },
  "language_info": {
   "codemirror_mode": {
    "name": "ipython",
    "version": 3
   },
   "file_extension": ".py",
   "mimetype": "text/x-python",
   "name": "python",
   "nbconvert_exporter": "python",
   "pygments_lexer": "ipython3",
   "version": "3.6.8"
  }
 },
 "nbformat": 4,
 "nbformat_minor": 2
}
