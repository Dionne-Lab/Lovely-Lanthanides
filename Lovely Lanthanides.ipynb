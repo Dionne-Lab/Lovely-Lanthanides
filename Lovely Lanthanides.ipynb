{
 "cells": [
  {
   "cell_type": "code",
   "execution_count": 61,
   "metadata": {},
   "outputs": [],
   "source": [
    "import lxml.html as lh\n",
    "import pandas as pd\n",
    "import html2text\n",
    "import re\n",
    "import ipywidgets as widgets\n",
    "from wavelength_color import wavelength_to_rgb"
   ]
  },
  {
   "cell_type": "code",
   "execution_count": 62,
   "metadata": {},
   "outputs": [],
   "source": [
    "file = open(\"PrincipleLanthanideTransitions.txt\",\"r\", encoding=\"utf-8\")\n",
    "doc = file.readlines()"
   ]
  },
  {
   "cell_type": "code",
   "execution_count": 63,
   "metadata": {},
   "outputs": [
    {
     "name": "stdout",
     "output_type": "stream",
     "text": [
      "['Ln', 'Ground state', 'Excited state', 'Final state', 'Emission wavelength (nm)', 'Energy (cm−1)', 'Intensity', 'Remarks']\n"
     ]
    }
   ],
   "source": [
    "headers = []\n",
    "h = html2text.HTML2Text()\n",
    "# Ignore converting links from HTML\n",
    "h.ignore_links = True\n",
    "for line in doc[11:19]:\n",
    "    actual_text = h.handle(line)\n",
    "    actual_text = actual_text.strip()\n",
    "    actual_text = actual_text.strip(\"|\")\n",
    "    actual_text = actual_text.strip()\n",
    "    headers.append(actual_text)\n",
    "print(headers)"
   ]
  },
  {
   "cell_type": "code",
   "execution_count": 64,
   "metadata": {},
   "outputs": [],
   "source": [
    "info = []\n",
    "for line in doc[23:]:\n",
    "    actual_text = h.handle(line)\n",
    "    actual_text = actual_text.strip()\n",
    "    actual_text = actual_text.strip(\"|\")\n",
    "    actual_text = actual_text.replace(\"![\\\\[thin space\\n\\\\(1/6-em\\\\)\\\\]](https://www.rsc.org/images/entities/char_2009.gif)\",\"\")\n",
    "    actual_text = actual_text.replace(\"![\\\\[thin\\nspace \\\\(1/6-em\\\\)\\\\]](https://www.rsc.org/images/entities/char_2009.gif)\",\"\")\n",
    "    actual_text = actual_text.strip()\n",
    "    if actual_text != \"\":\n",
    "        info.append(actual_text)\n",
    "#print(info)\n",
    "#print(len(info))"
   ]
  },
  {
   "cell_type": "code",
   "execution_count": 65,
   "metadata": {},
   "outputs": [],
   "source": [
    "#Create dictionary (but maybe I should consider using a pandas dataframe?)\n",
    "lanthanides = {}\n",
    "ground_state = False\n",
    "for item in info:\n",
    "    #Use this and next if block to sort out ground states\n",
    "    if ground_state:\n",
    "        lanthanides[current_lanthanide][\"Ground State\"] = item\n",
    "        ground_state = False\n",
    "    #Find those element symbols!\n",
    "    if item[0].isupper() and item[1].islower() and len(item) == 2:\n",
    "        current_lanthanide = item\n",
    "        lanthanides[item] = {\"Ground State\": '', \"Transitions\": {}}\n",
    "        lanthanides[item][\"Transitions\"] = {headers[2]: [], headers[3]: [], headers[4]: [], headers[5]: '', headers[6]: '', headers[7]: ''}\n",
    "        ground_state = True\n",
    "    #Check for state notation\n",
    "    if ground_state == False and re.match(\"^[0-9][A-Z][0-9]\", item) != None:\n",
    "    #Then check for arrow to see if it's the excited state, if not, assume last used excited state\n",
    "        if \"→\" in item:\n",
    "            excited_state = item\n",
    "            lanthanides[current_lanthanide][\"Transitions\"][\"Excited state\"].append(excited_state)\n",
    "        else:\n",
    "            lanthanides[current_lanthanide][\"Transitions\"][\"Final state\"].append(item)\n",
    "    if ground_state == False and re.match(\"^[0-9]{3,4}$\", item) != None:\n",
    "        lanthanides[current_lanthanide][\"Transitions\"][\"Emission wavelength (nm)\"].append(item)"
   ]
  },
  {
   "cell_type": "code",
   "execution_count": 66,
   "metadata": {},
   "outputs": [],
   "source": [
    "i = 0\n",
    "\n",
    "lanthanides = {}\n",
    "while i < len(info):\n",
    "    #Check for element symbol\n",
    "    if info[i][0].isupper() and info[i][1].islower() and len(info[i]) == 2:\n",
    "        #Grab that element!\n",
    "        current_lanthanide = info[i]\n",
    "        lanthanides[current_lanthanide] = {'Transition': [], headers[4]: [], headers[5]: [], headers[6]: [], headers[7]: []}\n",
    "        i += 1\n",
    "        \n",
    "        #Grab that ground state!\n",
    "        ground_state = info[i]\n",
    "        i += 1\n",
    "        \n",
    "    if \"→\" in info[i]:\n",
    "        #Grab that excited state!\n",
    "        excited_state = info[i]\n",
    "        i += 1\n",
    "    \n",
    "        #Grab that final state!\n",
    "        final_state = info[i]\n",
    "        \n",
    "        transition = excited_state + ' ' + final_state\n",
    "        lanthanides[current_lanthanide]['Transition'].append(transition)\n",
    "        lanthanides[current_lanthanide]['Emission wavelength (nm)'].append(info[i+1])\n",
    "        lanthanides[current_lanthanide]['Energy (cm−1)'].append(info[i+2])\n",
    "        lanthanides[current_lanthanide]['Intensity'].append(info[i+3])\n",
    "        lanthanides[current_lanthanide]['Remarks'].append(info[i+4])\n",
    "        i += 5\n",
    "            \n",
    "    else:\n",
    "        #Grab that final state!\n",
    "        final_state = info[i]\n",
    "        \n",
    "        transition = excited_state + ' ' + final_state\n",
    "        lanthanides[current_lanthanide]['Transition'].append(transition)\n",
    "        lanthanides[current_lanthanide]['Emission wavelength (nm)'].append(info[i+1])\n",
    "        lanthanides[current_lanthanide]['Energy (cm−1)'].append(info[i+2])\n",
    "        lanthanides[current_lanthanide]['Intensity'].append(info[i+3])\n",
    "        lanthanides[current_lanthanide]['Remarks'].append(info[i+4])\n",
    "        i += 5\n",
    "    df = pd.DataFrame(lanthanides[current_lanthanide])"
   ]
  },
  {
   "cell_type": "code",
   "execution_count": 67,
   "metadata": {
    "scrolled": true
   },
   "outputs": [
    {
     "name": "stdout",
     "output_type": "stream",
     "text": [
      "Pr\n",
      "  Transition Emission wavelength (nm) Energy (cm−1) Intensity    Remarks\n",
      "0  3P2 → 3H4                      440         22727      Weak         QC\n",
      "1  3P1 → 3H4                      470         21277      Weak         QC\n",
      "2  3P1 → 1G4                      872         11468    Medium         QC\n",
      "3  3P0 → 3H4                      480         20833    Strong  UC and QC\n",
      "4  3P0 → 3H5                      545         18349      Weak  UC and QC\n",
      "5  3P0 → 3H6                      606         16502    Medium  UC and QC\n",
      "6  3P0 → 3F2                      640         15625      Weak  UC and QC\n",
      "7  1D2 → 3F4                     1037          9643    Medium         QC\n",
      "Nd\n",
      "       Transition Emission wavelength (nm) Energy (cm−1)       Intensity  \\\n",
      "0   4D3/2 → 4I9/2                      355         28169            Weak   \n",
      "1   2P3/2 → 4I9/2                      380         26316            Weak   \n",
      "2  2P3/2 → 4I11/2                      410         24390          Strong   \n",
      "3  2P3/2 → 4I13/2                      452         22124          Strong   \n",
      "4   4G7/2 → 4I9/2                      545         18349  Weak to strong   \n",
      "5  4G7/2 → 4I11/2                      587         17036  Weak to strong   \n",
      "6  4G7/2 → 4I13/2                      655         15267  Weak to strong   \n",
      "7   4F3/2 → 4I9/2                      886         11287  Weak to strong   \n",
      "8  4F3/2 → 4I11/2                     1064          9399          Strong   \n",
      "9  4F3/2 → 4I13/2                     1340          7463            Weak   \n",
      "\n",
      "     Remarks  \n",
      "0  UC and QC  \n",
      "1  UC and QC  \n",
      "2  UC and QC  \n",
      "3  UC and QC  \n",
      "4  UC and QC  \n",
      "5  UC and QC  \n",
      "6  UC and QC  \n",
      "7  QC and DS  \n",
      "8  QC and DS  \n",
      "9  QC and DS  \n",
      "Sm\n",
      "      Transition Emission wavelength (nm) Energy (cm−1) Intensity Remarks\n",
      "0  4G5/2 → 6H5/2                      564         17730    Medium      DS\n",
      "1  4G5/2 → 6H7/2                      601         16639    Strong      DS\n",
      "2  4G5/2 → 6H9/2                      644         15528    Medium      DS\n",
      "Eu\n",
      "          Transition Emission wavelength (nm) Energy (cm−1) Intensity  \\\n",
      "0  5D0 → 7F0,1,2,3,4                  570–720   13889–17544    Strong   \n",
      "\n",
      "     Remarks  \n",
      "0  UC and DS  \n",
      "Tb\n",
      "        Transition Emission wavelength (nm) Energy (cm−1) Intensity  \\\n",
      "0  5D4 → 7F6,5,4,3                  480–650   15385–20833    Strong   \n",
      "\n",
      "         Remarks  \n",
      "0  UC, QC and DS  \n",
      "Dy\n",
      "       Transition Emission wavelength (nm) Energy (cm−1) Intensity    Remarks\n",
      "0  4F9/2 → 6H15/2                      486         20576    Medium  QC and DS\n",
      "1  4F9/2 → 6H13/2                      575         17391    Strong  QC and DS\n",
      "2  4F9/2 → 6H11/2                      664         15060      Weak  QC and DS\n",
      "Ho\n",
      "       Transition Emission wavelength (nm) Energy (cm−1) Intensity    Remarks\n",
      "0  5S2, 5F4 → 5I8                      540         18519    Strong  UC and QC\n",
      "1  5S2, 5F4 → 5I7                      749         13351      Weak  UC and QC\n",
      "2  5S2, 5F4 → 5I6                     1012          9881      Weak         QC\n",
      "3       5F5 → 5I8                      644         15528    Medium  UC and QC\n",
      "4       5F5 → 5I7                      966         10352      Weak         QC\n",
      "5       5I6 → 5I8                     1180          8475    Strong         QC\n",
      "Er\n",
      "        Transition Emission wavelength (nm) Energy (cm−1) Intensity    Remarks\n",
      "0  4G11/2 → 4I15/2                      380         26316      Weak  UC and QC\n",
      "1   2P3/2 → 4I13/2                      408         24510      Weak         UC\n",
      "2   2P3/2 → 4I11/2                      480         20833      Weak         UC\n",
      "3  2H11/2 → 4I15/2                      525         19048      Weak  UC and QC\n",
      "4   4S3/2 → 4I15/2                      545         18349    Strong  UC and QC\n",
      "5   4S3/2 → 4I13/2                      850         11765      Weak  UC and QC\n",
      "6   4F9/2 → 4I15/2                      665         15038    Strong  UC and QC\n",
      "7   4I9/2 → 4I15/2                      800         12500    Strong  UC and QC\n",
      "8  4I11/2 → 4I15/2                      980         10204    Strong  UC and QC\n",
      "9  4I13/2 → 4I15/2                     1540          6494    Strong         QC\n",
      "Tm\n",
      "  Transition Emission wavelength (nm) Energy (cm−1) Intensity    Remarks\n",
      "0  1D2 → 3H6                      360         27778    Medium  UC and QC\n",
      "1  1D2 → 3F4                      450         22222    Medium  UC and QC\n",
      "2  1G4 → 3H6                      475         21053    Strong  UC and QC\n",
      "3  1G4 → 3F4                      650         15385    Strong  UC and QC\n",
      "4  1G4 → 3H5                      786         12723      Weak  UC and QC\n",
      "5  3H4 → 3H6                      800         12500    Strong  UC and QC\n",
      "6  3F4 → 3H6                     1800          5556      Weak         QC\n",
      "Yb\n",
      "      Transition Emission wavelength (nm) Energy (cm−1) Intensity  \\\n",
      "0  2F5/2 → 2F7/2                      980         10204    Strong   \n",
      "\n",
      "         Remarks  \n",
      "0  UC, QC and DS  \n"
     ]
    }
   ],
   "source": [
    "for key in lanthanides:\n",
    "    print(key)\n",
    "    df = pd.DataFrame(lanthanides[key])\n",
    "    print(df)"
   ]
  },
  {
   "cell_type": "code",
   "execution_count": 73,
   "metadata": {},
   "outputs": [],
   "source": [
    "Yb_check = widgets.Checkbox(\n",
    "    value=False,\n",
    "    description='Yb',\n",
    "    disabled=False\n",
    ")"
   ]
  },
  {
   "cell_type": "code",
   "execution_count": 74,
   "metadata": {},
   "outputs": [
    {
     "data": {
      "application/vnd.jupyter.widget-view+json": {
       "model_id": "40cec0cf1f0a4c72abf4349635e52601",
       "version_major": 2,
       "version_minor": 0
      },
      "text/plain": [
       "Checkbox(value=False, description='Yb')"
      ]
     },
     "metadata": {},
     "output_type": "display_data"
    }
   ],
   "source": [
    "Yb_check"
   ]
  },
  {
   "cell_type": "code",
   "execution_count": 76,
   "metadata": {},
   "outputs": [
    {
     "data": {
      "text/plain": [
       "True"
      ]
     },
     "execution_count": 76,
     "metadata": {},
     "output_type": "execute_result"
    }
   ],
   "source": [
    "Yb_check.value"
   ]
  },
  {
   "cell_type": "code",
   "execution_count": 86,
   "metadata": {},
   "outputs": [
    {
     "data": {
      "application/vnd.jupyter.widget-view+json": {
       "model_id": "f4c914cfb25f442ab42d6b7bccdbc60f",
       "version_major": 2,
       "version_minor": 0
      },
      "text/plain": [
       "Tab(children=(SelectMultiple(description='Transitions', index=(1,), options=('Apples', 'Oranges', 'Pears'), va…"
      ]
     },
     "metadata": {},
     "output_type": "display_data"
    }
   ],
   "source": [
    "tab_contents = ['Yb', 'Nd', 'Er', 'Gd', 'etc.']\n",
    "children = [widgets.SelectMultiple(\n",
    "        options=['Apples', 'Oranges', 'Pears'],\n",
    "        value=['Oranges'],\n",
    "        #rows=10,\n",
    "        description='Transitions',\n",
    "        disabled=False\n",
    "    ) for name in tab_contents]\n",
    "tab = widgets.Tab()\n",
    "tab.children = children\n",
    "for i in range(len(children)):\n",
    "    tab.set_title(i, tab_contents[i])\n",
    "tab"
   ]
  },
  {
   "cell_type": "code",
   "execution_count": 60,
   "metadata": {},
   "outputs": [
    {
     "name": "stdout",
     "output_type": "stream",
     "text": [
      "(0, 70, 255)\n"
     ]
    }
   ],
   "source": [
    "print(wavelength_to_rgb(450))"
   ]
  }
 ],
 "metadata": {
  "kernelspec": {
   "display_name": "Python 3",
   "language": "python",
   "name": "python3"
  },
  "language_info": {
   "codemirror_mode": {
    "name": "ipython",
    "version": 3
   },
   "file_extension": ".py",
   "mimetype": "text/x-python",
   "name": "python",
   "nbconvert_exporter": "python",
   "pygments_lexer": "ipython3",
   "version": "3.6.8"
  }
 },
 "nbformat": 4,
 "nbformat_minor": 2
}
