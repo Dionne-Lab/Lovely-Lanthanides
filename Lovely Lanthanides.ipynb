{
 "cells": [
  {
   "cell_type": "code",
   "execution_count": 15,
   "metadata": {},
   "outputs": [],
   "source": [
    "import lxml.html as lh\n",
    "import pandas as pd\n",
    "import html2text\n",
    "import re\n",
    "import plotly.graph_objects as go\n",
    "import ipywidgets as widgets\n",
    "import matplotlib\n",
    "import matplotlib.pyplot as plt\n",
    "import matplotlib.animation as animation\n",
    "import numpy as np\n",
    "from wavelength_color import wavelength_to_rgb"
   ]
  },
  {
   "cell_type": "code",
   "execution_count": 16,
   "metadata": {},
   "outputs": [],
   "source": [
    "file = open(\"PrincipleLanthanideTransitions.txt\",\"r\", encoding=\"utf-8\")\n",
    "doc = file.readlines()"
   ]
  },
  {
   "cell_type": "code",
   "execution_count": 17,
   "metadata": {},
   "outputs": [
    {
     "name": "stdout",
     "output_type": "stream",
     "text": [
      "['Ln', 'Ground state', 'Excited state', 'Final state', 'Emission wavelength (nm)', 'Energy (cm−1)', 'Intensity', 'Remarks']\n"
     ]
    }
   ],
   "source": [
    "headers = []\n",
    "h = html2text.HTML2Text()\n",
    "# Ignore converting links from HTML\n",
    "h.ignore_links = True\n",
    "for line in doc[11:19]:\n",
    "    actual_text = h.handle(line)\n",
    "    actual_text = actual_text.strip()\n",
    "    actual_text = actual_text.strip(\"|\")\n",
    "    actual_text = actual_text.strip()\n",
    "    headers.append(actual_text)\n",
    "print(headers)"
   ]
  },
  {
   "cell_type": "code",
   "execution_count": 18,
   "metadata": {},
   "outputs": [],
   "source": [
    "info = []\n",
    "for line in doc[23:]:\n",
    "    actual_text = h.handle(line)\n",
    "    actual_text = actual_text.strip()\n",
    "    actual_text = actual_text.strip(\"|\")\n",
    "    actual_text = actual_text.replace(\"![\\\\[thin space\\n\\\\(1/6-em\\\\)\\\\]](https://www.rsc.org/images/entities/char_2009.gif)\",\"\")\n",
    "    actual_text = actual_text.replace(\"![\\\\[thin\\nspace \\\\(1/6-em\\\\)\\\\]](https://www.rsc.org/images/entities/char_2009.gif)\",\"\")\n",
    "    actual_text = actual_text.strip()\n",
    "    if actual_text != \"\":\n",
    "        info.append(actual_text)\n",
    "#print(info)\n",
    "#print(len(info))"
   ]
  },
  {
   "cell_type": "code",
   "execution_count": 19,
   "metadata": {},
   "outputs": [],
   "source": [
    "i = 0\n",
    "\n",
    "lanthanides = {}\n",
    "while i < len(info):\n",
    "    #Check for element symbol\n",
    "    if info[i][0].isupper() and info[i][1].islower() and len(info[i]) == 2:\n",
    "        #Grab that element!\n",
    "        current_lanthanide = info[i]\n",
    "        lanthanides[current_lanthanide] = {'Transition': [], headers[4]: [], headers[5]: [], headers[6]: [], headers[7]: []}\n",
    "        i += 1\n",
    "        \n",
    "        #Grab that ground state!\n",
    "        ground_state = info[i]\n",
    "        i += 1\n",
    "        \n",
    "    if \"→\" in info[i]:\n",
    "        #Grab that excited state!\n",
    "        excited_state = info[i]\n",
    "        i += 1\n",
    "    \n",
    "        #Grab that final state!\n",
    "        final_state = info[i]\n",
    "        \n",
    "        transition = excited_state + ' ' + final_state\n",
    "        lanthanides[current_lanthanide]['Transition'].append(transition)\n",
    "        lanthanides[current_lanthanide]['Emission wavelength (nm)'].append(info[i+1])\n",
    "        lanthanides[current_lanthanide]['Energy (cm−1)'].append(info[i+2])\n",
    "        lanthanides[current_lanthanide]['Intensity'].append(info[i+3])\n",
    "        lanthanides[current_lanthanide]['Remarks'].append(info[i+4])\n",
    "        i += 5\n",
    "            \n",
    "    else:\n",
    "        #Grab that final state!\n",
    "        final_state = info[i]\n",
    "        \n",
    "        transition = excited_state + ' ' + final_state\n",
    "        lanthanides[current_lanthanide]['Transition'].append(transition)\n",
    "        lanthanides[current_lanthanide]['Emission wavelength (nm)'].append(info[i+1])\n",
    "        lanthanides[current_lanthanide]['Energy (cm−1)'].append(info[i+2])\n",
    "        lanthanides[current_lanthanide]['Intensity'].append(info[i+3])\n",
    "        lanthanides[current_lanthanide]['Remarks'].append(info[i+4])\n",
    "        \n",
    "        i += 5\n",
    "    df = pd.DataFrame(lanthanides[current_lanthanide])"
   ]
  },
  {
   "cell_type": "code",
   "execution_count": 20,
   "metadata": {
    "scrolled": true
   },
   "outputs": [
    {
     "name": "stdout",
     "output_type": "stream",
     "text": [
      "Pr\n",
      "  Transition Emission wavelength (nm) Energy (cm−1) Intensity    Remarks\n",
      "0  3P2 → 3H4                      440         22727      Weak         QC\n",
      "1  3P1 → 3H4                      470         21277      Weak         QC\n",
      "2  3P1 → 1G4                      872         11468    Medium         QC\n",
      "3  3P0 → 3H4                      480         20833    Strong  UC and QC\n",
      "4  3P0 → 3H5                      545         18349      Weak  UC and QC\n",
      "5  3P0 → 3H6                      606         16502    Medium  UC and QC\n",
      "6  3P0 → 3F2                      640         15625      Weak  UC and QC\n",
      "7  1D2 → 3F4                     1037          9643    Medium         QC\n",
      "Nd\n",
      "       Transition Emission wavelength (nm) Energy (cm−1)       Intensity  \\\n",
      "0   4D3/2 → 4I9/2                      355         28169            Weak   \n",
      "1   2P3/2 → 4I9/2                      380         26316            Weak   \n",
      "2  2P3/2 → 4I11/2                      410         24390          Strong   \n",
      "3  2P3/2 → 4I13/2                      452         22124          Strong   \n",
      "4   4G7/2 → 4I9/2                      545         18349  Weak to strong   \n",
      "5  4G7/2 → 4I11/2                      587         17036  Weak to strong   \n",
      "6  4G7/2 → 4I13/2                      655         15267  Weak to strong   \n",
      "7   4F3/2 → 4I9/2                      886         11287  Weak to strong   \n",
      "8  4F3/2 → 4I11/2                     1064          9399          Strong   \n",
      "9  4F3/2 → 4I13/2                     1340          7463            Weak   \n",
      "\n",
      "     Remarks  \n",
      "0  UC and QC  \n",
      "1  UC and QC  \n",
      "2  UC and QC  \n",
      "3  UC and QC  \n",
      "4  UC and QC  \n",
      "5  UC and QC  \n",
      "6  UC and QC  \n",
      "7  QC and DS  \n",
      "8  QC and DS  \n",
      "9  QC and DS  \n",
      "Sm\n",
      "      Transition Emission wavelength (nm) Energy (cm−1) Intensity Remarks\n",
      "0  4G5/2 → 6H5/2                      564         17730    Medium      DS\n",
      "1  4G5/2 → 6H7/2                      601         16639    Strong      DS\n",
      "2  4G5/2 → 6H9/2                      644         15528    Medium      DS\n",
      "Eu\n",
      "          Transition Emission wavelength (nm) Energy (cm−1) Intensity  \\\n",
      "0  5D0 → 7F0,1,2,3,4                  570–720   13889–17544    Strong   \n",
      "\n",
      "     Remarks  \n",
      "0  UC and DS  \n",
      "Tb\n",
      "        Transition Emission wavelength (nm) Energy (cm−1) Intensity  \\\n",
      "0  5D4 → 7F6,5,4,3                  480–650   15385–20833    Strong   \n",
      "\n",
      "         Remarks  \n",
      "0  UC, QC and DS  \n",
      "Dy\n",
      "       Transition Emission wavelength (nm) Energy (cm−1) Intensity    Remarks\n",
      "0  4F9/2 → 6H15/2                      486         20576    Medium  QC and DS\n",
      "1  4F9/2 → 6H13/2                      575         17391    Strong  QC and DS\n",
      "2  4F9/2 → 6H11/2                      664         15060      Weak  QC and DS\n",
      "Ho\n",
      "       Transition Emission wavelength (nm) Energy (cm−1) Intensity    Remarks\n",
      "0  5S2, 5F4 → 5I8                      540         18519    Strong  UC and QC\n",
      "1  5S2, 5F4 → 5I7                      749         13351      Weak  UC and QC\n",
      "2  5S2, 5F4 → 5I6                     1012          9881      Weak         QC\n",
      "3       5F5 → 5I8                      644         15528    Medium  UC and QC\n",
      "4       5F5 → 5I7                      966         10352      Weak         QC\n",
      "5       5I6 → 5I8                     1180          8475    Strong         QC\n",
      "Er\n",
      "        Transition Emission wavelength (nm) Energy (cm−1) Intensity    Remarks\n",
      "0  4G11/2 → 4I15/2                      380         26316      Weak  UC and QC\n",
      "1   2P3/2 → 4I13/2                      408         24510      Weak         UC\n",
      "2   2P3/2 → 4I11/2                      480         20833      Weak         UC\n",
      "3  2H11/2 → 4I15/2                      525         19048      Weak  UC and QC\n",
      "4   4S3/2 → 4I15/2                      545         18349    Strong  UC and QC\n",
      "5   4S3/2 → 4I13/2                      850         11765      Weak  UC and QC\n",
      "6   4F9/2 → 4I15/2                      665         15038    Strong  UC and QC\n",
      "7   4I9/2 → 4I15/2                      800         12500    Strong  UC and QC\n",
      "8  4I11/2 → 4I15/2                      980         10204    Strong  UC and QC\n",
      "9  4I13/2 → 4I15/2                     1540          6494    Strong         QC\n",
      "Tm\n",
      "  Transition Emission wavelength (nm) Energy (cm−1) Intensity    Remarks\n",
      "0  1D2 → 3H6                      360         27778    Medium  UC and QC\n",
      "1  1D2 → 3F4                      450         22222    Medium  UC and QC\n",
      "2  1G4 → 3H6                      475         21053    Strong  UC and QC\n",
      "3  1G4 → 3F4                      650         15385    Strong  UC and QC\n",
      "4  1G4 → 3H5                      786         12723      Weak  UC and QC\n",
      "5  3H4 → 3H6                      800         12500    Strong  UC and QC\n",
      "6  3F4 → 3H6                     1800          5556      Weak         QC\n",
      "Yb\n",
      "      Transition Emission wavelength (nm) Energy (cm−1) Intensity  \\\n",
      "0  2F5/2 → 2F7/2                      980         10204    Strong   \n",
      "\n",
      "         Remarks  \n",
      "0  UC, QC and DS  \n"
     ]
    }
   ],
   "source": [
    "df = {}\n",
    "for key in lanthanides:\n",
    "    print(key)\n",
    "    df[key] = pd.DataFrame(lanthanides[key])\n",
    "    print(df[key])\n",
    "#print(df)"
   ]
  },
  {
   "cell_type": "code",
   "execution_count": 21,
   "metadata": {},
   "outputs": [],
   "source": [
    "#Let's make some widgets!\n",
    "widget_list = []\n",
    "for key in lanthanides:\n",
    "    #This will be a multi-select list of the transitions for that lanthanide.\n",
    "    widget_info = widgets.SelectMultiple(\n",
    "        options=[lanthanides[key]['Transition'][i] for i in range(len(lanthanides[key]['Transition']))],\n",
    "        value=[],\n",
    "        #rows=10,\n",
    "        description='Transitions',\n",
    "        disabled=False\n",
    "    )\n",
    "    #This will be the Select All Checkbox if we care about all of the transitions.\n",
    "    lanthanide_select_all = widgets.Checkbox(\n",
    "    value=False,\n",
    "    description= key + ' Select All',\n",
    "    disabled=False\n",
    "    )\n",
    "    container = widgets.HBox(children=[lanthanide_select_all,widget_info])\n",
    "    widget_list.append(container)"
   ]
  },
  {
   "cell_type": "code",
   "execution_count": 22,
   "metadata": {
    "scrolled": true
   },
   "outputs": [],
   "source": [
    "tab_contents = [key for key in lanthanides]\n",
    "children = widget_list\n",
    "tab = widgets.Tab()\n",
    "tab.children = children\n",
    "for i in range(len(children)):\n",
    "    tab.set_title(i, tab_contents[i])"
   ]
  },
  {
   "cell_type": "code",
   "execution_count": 30,
   "metadata": {},
   "outputs": [
    {
     "data": {
      "image/png": "[encoded data removed]",
      "text/plain": [
       "<Figure size 1440x432 with 1 Axes>"
      ]
     },
     "metadata": {
      "needs_background": "light"
     },
     "output_type": "display_data"
    },
    {
     "data": {
      "application/vnd.jupyter.widget-view+json": {
       "model_id": "be42a098aaeb4fddbefb84f4496aaf86",
       "version_major": 2,
       "version_minor": 0
      },
      "text/plain": [
       "Tab(children=(HBox(children=(Checkbox(value=True, description='Pr Select All'), SelectMultiple(description='Tr…"
      ]
     },
     "metadata": {},
     "output_type": "display_data"
    }
   ],
   "source": [
    "def update():\n",
    "#If any 'select all' boxes are checked, update the tab view to reflect that then\n",
    "#Grab list of selected states so that these can eventually be plotted\n",
    "    box_ticks = [tab.children[k].children[0].value for k in range(len(tab_contents))]\n",
    "    if any(box_ticks):\n",
    "        for j in range(len(box_ticks)):\n",
    "            if box_ticks[j]:\n",
    "                tab.children[j].children[1].value = tab.children[j].children[1].options\n",
    "    #Let's clear what we plotted previously so that we can update via appending\n",
    "    lanthanide_x = []\n",
    "    lanthanide_y = []\n",
    "    #Look through all of those lanthanides!\n",
    "    for z in range(len(tab_contents)):\n",
    "        #Look through all of those transitions!\n",
    "        for transition in children[z].children[1].value:\n",
    "            element_data = df[tab_contents[z]]\n",
    "            #Match the selected transitions with the tabulated data, so that we can grab that data (wavelength and intensity)\n",
    "            if transition in element_data['Transition'].values:\n",
    "                transition_index = element_data[element_data['Transition'] == transition].index.values\n",
    "                intensity = element_data['Intensity'][transition_index].values\n",
    "                #Grab intensity information\n",
    "                if intensity == 'Strong':\n",
    "                    intensity_value = 5\n",
    "                elif intensity == 'Weak':\n",
    "                    intensity_value = 1\n",
    "                else:\n",
    "                    intensity_value = 3\n",
    "                #Grab wavelength information\n",
    "                wavelength = element_data['Emission wavelength (nm)'][transition_index].values[0]\n",
    "                if '-' in wavelength:\n",
    "                    wavelength_start = int(wavelength.split('-')[0])\n",
    "                    lanthanide_x.append(wavelength_start)\n",
    "                    lanthanide_y.append(intensity_value)\n",
    "                    wavelength_end = int(wavelength.split('-')[1])\n",
    "                    lanthanide_x.append(wavelength_end)\n",
    "                    lanthanide_y.append(intensity_value)\n",
    "                elif '–' in wavelength:\n",
    "                    wavelength_start = int(wavelength.split('–')[0])\n",
    "                    lanthanide_x.append(wavelength_start)\n",
    "                    lanthanide_y.append(intensity_value)\n",
    "                    wavelength_end = int(wavelength.split('–')[1])\n",
    "                    lanthanide_x.append(wavelength_end)\n",
    "                    lanthanide_y.append(intensity_value)\n",
    "                else:\n",
    "                    wavelength = int(wavelength)\n",
    "                    lanthanide_x.append(wavelength)\n",
    "                    lanthanide_y.append(intensity_value)\n",
    "    return lanthanide_x, lanthanide_y\n",
    "    \n",
    "\n",
    "fig = plt.figure(figsize=(20, 6))\n",
    "#creating a subplot \n",
    "ax1 = fig.add_subplot(1,1,1)\n",
    "ax1.axis([300, 1900, 0, 6])\n",
    "plt.yticks([])\n",
    "ax1.set(xlabel='Wavelength (nm)', ylabel='Relative Intensity (a.u.)',\n",
    "       title='Lanthanide States')\n",
    "plt.rcParams.update({'font.size': 25})\n",
    "x_values, y_values = update()\n",
    "for k in range(len(x_values)):\n",
    "    ax1.vlines(x = x_values[k], ymin = 0, ymax = y_values[k], colors = wavelength_to_rgb(x_values[k]), linewidths = 3)\n",
    "plt.show()\n",
    "tab"
   ]
  },
  {
   "cell_type": "code",
   "execution_count": null,
   "metadata": {},
   "outputs": [],
   "source": []
  }
 ],
 "metadata": {
  "kernelspec": {
   "display_name": "Python 3",
   "language": "python",
   "name": "python3"
  },
  "language_info": {
   "codemirror_mode": {
    "name": "ipython",
    "version": 3
   },
   "file_extension": ".py",
   "mimetype": "text/x-python",
   "name": "python",
   "nbconvert_exporter": "python",
   "pygments_lexer": "ipython3",
   "version": "3.6.8"
  }
 },
 "nbformat": 4,
 "nbformat_minor": 2
}
